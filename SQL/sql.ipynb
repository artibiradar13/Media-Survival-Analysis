{
 "cells": [
  {
   "cell_type": "code",
   "execution_count": 1,
   "id": "e5c545a5",
   "metadata": {},
   "outputs": [
    {
     "name": "stdout",
     "output_type": "stream",
     "text": [
      "✅ Loaded dim_ad_category.csv into table 'dim_ad_category'\n",
      "✅ Loaded dim_city.csv into table 'dim_city'\n",
      "✅ Loaded dim_date.csv into table 'dim_date'\n",
      "✅ Loaded fact_ad_revenue.csv into table 'fact_ad_revenue'\n",
      "✅ Loaded fact_city_readiness.csv into table 'fact_city_readiness'\n",
      "✅ Loaded fact_digital_pilot.csv into table 'fact_digital_pilot'\n",
      "✅ Loaded fact_print_sales.csv into table 'fact_print_sales'\n"
     ]
    }
   ],
   "source": [
    "import os\n",
    "import pandas as pd\n",
    "from sqlalchemy import create_engine\n",
    "\n",
    "# PostgreSQL connection details\n",
    "user = \"postgres\"\n",
    "password = \"newpassword\"\n",
    "host = \"localhost\"\n",
    "port = \"5432\"\n",
    "database = \"newspaper\"\n",
    "\n",
    "# Create SQLAlchemy engine\n",
    "engine = create_engine(f\"postgresql+psycopg2://{user}:{password}@{host}:{port}/{database}\")\n",
    "\n",
    "# Path to your datasets folder\n",
    "folder = r\"C:\\Users\\brdrv\\OneDrive\\Desktop\\NewPaper\\datasets\"\n",
    "\n",
    "# Loop through all CSV files in the folder\n",
    "for file in os.listdir(folder):\n",
    "    if file.endswith(\".csv\"):\n",
    "        file_path = os.path.join(folder, file)\n",
    "        table_name = os.path.splitext(file)[0].lower()\n",
    "\n",
    "        try:\n",
    "            # Read CSV\n",
    "            df = pd.read_csv(file_path)\n",
    "\n",
    "            # Load into PostgreSQL\n",
    "            df.to_sql(table_name, engine, if_exists=\"replace\", index=False)\n",
    "\n",
    "            print(f\"✅ Loaded {file} into table '{table_name}'\")\n",
    "\n",
    "        except Exception as e:\n",
    "            print(f\"❌ Failed to load {file}: {e}\")\n",
    "\n"
   ]
  },
  {
   "cell_type": "code",
   "execution_count": null,
   "id": "46135468",
   "metadata": {},
   "outputs": [],
   "source": [
    "df=pd.read_sql(\"select * from fact_print_sales;\",engine)\n"
   ]
  },
  {
   "cell_type": "code",
   "execution_count": 7,
   "id": "783246dd",
   "metadata": {},
   "outputs": [
    {
     "data": {
      "text/plain": [
       "0      C010\n",
       "1      C010\n",
       "2      C010\n",
       "3      C010\n",
       "4      C010\n",
       "       ... \n",
       "715    C007\n",
       "716    C007\n",
       "717    C007\n",
       "718    C007\n",
       "719    C007\n",
       "Name: City_ID, Length: 720, dtype: object"
      ]
     },
     "execution_count": 7,
     "metadata": {},
     "output_type": "execute_result"
    }
   ],
   "source": [
    "df.City_ID"
   ]
  },
  {
   "cell_type": "code",
   "execution_count": 11,
   "id": "c52b10cb",
   "metadata": {},
   "outputs": [
    {
     "ename": "ProgrammingError",
     "evalue": "(psycopg2.errors.UndefinedColumn) column f.city_id does not exist\nLINE 8:     JOIN dim_city c ON c.city_id = f.City_ID\n                                           ^\nHINT:  Perhaps you meant to reference the column \"c.city_id\".\n\n[SQL: \nWITH monthly_sales AS (\n    SELECT \n        c.city,\n        TO_CHAR(f.date, 'YYYY-MM') AS month,\n        SUM(f.net_circulation) AS net_circulation\n    FROM fact_print_sales f\n    JOIN dim_city c ON c.city_id = f.City_ID\n    WHERE f.year BETWEEN 2019 AND 2024\n    GROUP BY c.city, TO_CHAR(f.date, 'YYYY-MM')\n),\nwith_lag AS (\n    SELECT \n        city,\n        month,\n        net_circulation,\n        LAG(net_circulation) OVER (PARTITION BY city ORDER BY month) AS prev_circulation\n    FROM monthly_sales\n)\nSELECT \n    city,\n    month,\n    net_circulation,\n    (prev_circulation - net_circulation) AS decline\nFROM with_lag\nWHERE prev_circulation IS NOT NULL\nORDER BY decline DESC\nLIMIT 3;\n]\n(Background on this error at: https://sqlalche.me/e/20/f405)",
     "output_type": "error",
     "traceback": [
      "\u001b[1;31m---------------------------------------------------------------------------\u001b[0m",
      "\u001b[1;31mUndefinedColumn\u001b[0m                           Traceback (most recent call last)",
      "File \u001b[1;32mc:\\Users\\brdrv\\anaconda3\\Lib\\site-packages\\sqlalchemy\\engine\\base.py:1964\u001b[0m, in \u001b[0;36mConnection._exec_single_context\u001b[1;34m(self, dialect, context, statement, parameters)\u001b[0m\n\u001b[0;32m   1963\u001b[0m     \u001b[38;5;28;01mif\u001b[39;00m \u001b[38;5;129;01mnot\u001b[39;00m evt_handled:\n\u001b[1;32m-> 1964\u001b[0m         \u001b[38;5;28mself\u001b[39m\u001b[38;5;241m.\u001b[39mdialect\u001b[38;5;241m.\u001b[39mdo_execute(\n\u001b[0;32m   1965\u001b[0m             cursor, str_statement, effective_parameters, context\n\u001b[0;32m   1966\u001b[0m         )\n\u001b[0;32m   1968\u001b[0m \u001b[38;5;28;01mif\u001b[39;00m \u001b[38;5;28mself\u001b[39m\u001b[38;5;241m.\u001b[39m_has_events \u001b[38;5;129;01mor\u001b[39;00m \u001b[38;5;28mself\u001b[39m\u001b[38;5;241m.\u001b[39mengine\u001b[38;5;241m.\u001b[39m_has_events:\n",
      "File \u001b[1;32mc:\\Users\\brdrv\\anaconda3\\Lib\\site-packages\\sqlalchemy\\engine\\default.py:942\u001b[0m, in \u001b[0;36mDefaultDialect.do_execute\u001b[1;34m(self, cursor, statement, parameters, context)\u001b[0m\n\u001b[0;32m    941\u001b[0m \u001b[38;5;28;01mdef\u001b[39;00m\u001b[38;5;250m \u001b[39m\u001b[38;5;21mdo_execute\u001b[39m(\u001b[38;5;28mself\u001b[39m, cursor, statement, parameters, context\u001b[38;5;241m=\u001b[39m\u001b[38;5;28;01mNone\u001b[39;00m):\n\u001b[1;32m--> 942\u001b[0m     cursor\u001b[38;5;241m.\u001b[39mexecute(statement, parameters)\n",
      "\u001b[1;31mUndefinedColumn\u001b[0m: column f.city_id does not exist\nLINE 8:     JOIN dim_city c ON c.city_id = f.City_ID\n                                           ^\nHINT:  Perhaps you meant to reference the column \"c.city_id\".\n",
      "\nThe above exception was the direct cause of the following exception:\n",
      "\u001b[1;31mProgrammingError\u001b[0m                          Traceback (most recent call last)",
      "Cell \u001b[1;32mIn[11], line 33\u001b[0m\n\u001b[0;32m      1\u001b[0m \u001b[38;5;28;01mimport\u001b[39;00m\u001b[38;5;250m \u001b[39m\u001b[38;5;21;01mpandas\u001b[39;00m\u001b[38;5;250m \u001b[39m\u001b[38;5;28;01mas\u001b[39;00m\u001b[38;5;250m \u001b[39m\u001b[38;5;21;01mpd\u001b[39;00m\n\u001b[0;32m      3\u001b[0m query \u001b[38;5;241m=\u001b[39m \u001b[38;5;124m\"\"\"\u001b[39m\n\u001b[0;32m      4\u001b[0m \u001b[38;5;124mWITH monthly_sales AS (\u001b[39m\n\u001b[0;32m      5\u001b[0m \u001b[38;5;124m    SELECT \u001b[39m\n\u001b[1;32m   (...)\u001b[0m\n\u001b[0;32m     30\u001b[0m \u001b[38;5;124mLIMIT 3;\u001b[39m\n\u001b[0;32m     31\u001b[0m \u001b[38;5;124m\"\"\"\u001b[39m\n\u001b[1;32m---> 33\u001b[0m df \u001b[38;5;241m=\u001b[39m pd\u001b[38;5;241m.\u001b[39mread_sql(query, engine)\n\u001b[0;32m     34\u001b[0m \u001b[38;5;28mprint\u001b[39m(df)\n",
      "File \u001b[1;32mc:\\Users\\brdrv\\anaconda3\\Lib\\site-packages\\pandas\\io\\sql.py:734\u001b[0m, in \u001b[0;36mread_sql\u001b[1;34m(sql, con, index_col, coerce_float, params, parse_dates, columns, chunksize, dtype_backend, dtype)\u001b[0m\n\u001b[0;32m    724\u001b[0m     \u001b[38;5;28;01mreturn\u001b[39;00m pandas_sql\u001b[38;5;241m.\u001b[39mread_table(\n\u001b[0;32m    725\u001b[0m         sql,\n\u001b[0;32m    726\u001b[0m         index_col\u001b[38;5;241m=\u001b[39mindex_col,\n\u001b[1;32m   (...)\u001b[0m\n\u001b[0;32m    731\u001b[0m         dtype_backend\u001b[38;5;241m=\u001b[39mdtype_backend,\n\u001b[0;32m    732\u001b[0m     )\n\u001b[0;32m    733\u001b[0m \u001b[38;5;28;01melse\u001b[39;00m:\n\u001b[1;32m--> 734\u001b[0m     \u001b[38;5;28;01mreturn\u001b[39;00m pandas_sql\u001b[38;5;241m.\u001b[39mread_query(\n\u001b[0;32m    735\u001b[0m         sql,\n\u001b[0;32m    736\u001b[0m         index_col\u001b[38;5;241m=\u001b[39mindex_col,\n\u001b[0;32m    737\u001b[0m         params\u001b[38;5;241m=\u001b[39mparams,\n\u001b[0;32m    738\u001b[0m         coerce_float\u001b[38;5;241m=\u001b[39mcoerce_float,\n\u001b[0;32m    739\u001b[0m         parse_dates\u001b[38;5;241m=\u001b[39mparse_dates,\n\u001b[0;32m    740\u001b[0m         chunksize\u001b[38;5;241m=\u001b[39mchunksize,\n\u001b[0;32m    741\u001b[0m         dtype_backend\u001b[38;5;241m=\u001b[39mdtype_backend,\n\u001b[0;32m    742\u001b[0m         dtype\u001b[38;5;241m=\u001b[39mdtype,\n\u001b[0;32m    743\u001b[0m     )\n",
      "File \u001b[1;32mc:\\Users\\brdrv\\anaconda3\\Lib\\site-packages\\pandas\\io\\sql.py:1836\u001b[0m, in \u001b[0;36mSQLDatabase.read_query\u001b[1;34m(self, sql, index_col, coerce_float, parse_dates, params, chunksize, dtype, dtype_backend)\u001b[0m\n\u001b[0;32m   1779\u001b[0m \u001b[38;5;28;01mdef\u001b[39;00m\u001b[38;5;250m \u001b[39m\u001b[38;5;21mread_query\u001b[39m(\n\u001b[0;32m   1780\u001b[0m     \u001b[38;5;28mself\u001b[39m,\n\u001b[0;32m   1781\u001b[0m     sql: \u001b[38;5;28mstr\u001b[39m,\n\u001b[1;32m   (...)\u001b[0m\n\u001b[0;32m   1788\u001b[0m     dtype_backend: DtypeBackend \u001b[38;5;241m|\u001b[39m Literal[\u001b[38;5;124m\"\u001b[39m\u001b[38;5;124mnumpy\u001b[39m\u001b[38;5;124m\"\u001b[39m] \u001b[38;5;241m=\u001b[39m \u001b[38;5;124m\"\u001b[39m\u001b[38;5;124mnumpy\u001b[39m\u001b[38;5;124m\"\u001b[39m,\n\u001b[0;32m   1789\u001b[0m ) \u001b[38;5;241m-\u001b[39m\u001b[38;5;241m>\u001b[39m DataFrame \u001b[38;5;241m|\u001b[39m Iterator[DataFrame]:\n\u001b[0;32m   1790\u001b[0m \u001b[38;5;250m    \u001b[39m\u001b[38;5;124;03m\"\"\"\u001b[39;00m\n\u001b[0;32m   1791\u001b[0m \u001b[38;5;124;03m    Read SQL query into a DataFrame.\u001b[39;00m\n\u001b[0;32m   1792\u001b[0m \n\u001b[1;32m   (...)\u001b[0m\n\u001b[0;32m   1834\u001b[0m \n\u001b[0;32m   1835\u001b[0m \u001b[38;5;124;03m    \"\"\"\u001b[39;00m\n\u001b[1;32m-> 1836\u001b[0m     result \u001b[38;5;241m=\u001b[39m \u001b[38;5;28mself\u001b[39m\u001b[38;5;241m.\u001b[39mexecute(sql, params)\n\u001b[0;32m   1837\u001b[0m     columns \u001b[38;5;241m=\u001b[39m result\u001b[38;5;241m.\u001b[39mkeys()\n\u001b[0;32m   1839\u001b[0m     \u001b[38;5;28;01mif\u001b[39;00m chunksize \u001b[38;5;129;01mis\u001b[39;00m \u001b[38;5;129;01mnot\u001b[39;00m \u001b[38;5;28;01mNone\u001b[39;00m:\n",
      "File \u001b[1;32mc:\\Users\\brdrv\\anaconda3\\Lib\\site-packages\\pandas\\io\\sql.py:1659\u001b[0m, in \u001b[0;36mSQLDatabase.execute\u001b[1;34m(self, sql, params)\u001b[0m\n\u001b[0;32m   1657\u001b[0m args \u001b[38;5;241m=\u001b[39m [] \u001b[38;5;28;01mif\u001b[39;00m params \u001b[38;5;129;01mis\u001b[39;00m \u001b[38;5;28;01mNone\u001b[39;00m \u001b[38;5;28;01melse\u001b[39;00m [params]\n\u001b[0;32m   1658\u001b[0m \u001b[38;5;28;01mif\u001b[39;00m \u001b[38;5;28misinstance\u001b[39m(sql, \u001b[38;5;28mstr\u001b[39m):\n\u001b[1;32m-> 1659\u001b[0m     \u001b[38;5;28;01mreturn\u001b[39;00m \u001b[38;5;28mself\u001b[39m\u001b[38;5;241m.\u001b[39mcon\u001b[38;5;241m.\u001b[39mexec_driver_sql(sql, \u001b[38;5;241m*\u001b[39margs)\n\u001b[0;32m   1660\u001b[0m \u001b[38;5;28;01mreturn\u001b[39;00m \u001b[38;5;28mself\u001b[39m\u001b[38;5;241m.\u001b[39mcon\u001b[38;5;241m.\u001b[39mexecute(sql, \u001b[38;5;241m*\u001b[39margs)\n",
      "File \u001b[1;32mc:\\Users\\brdrv\\anaconda3\\Lib\\site-packages\\sqlalchemy\\engine\\base.py:1776\u001b[0m, in \u001b[0;36mConnection.exec_driver_sql\u001b[1;34m(self, statement, parameters, execution_options)\u001b[0m\n\u001b[0;32m   1771\u001b[0m execution_options \u001b[38;5;241m=\u001b[39m \u001b[38;5;28mself\u001b[39m\u001b[38;5;241m.\u001b[39m_execution_options\u001b[38;5;241m.\u001b[39mmerge_with(\n\u001b[0;32m   1772\u001b[0m     execution_options\n\u001b[0;32m   1773\u001b[0m )\n\u001b[0;32m   1775\u001b[0m dialect \u001b[38;5;241m=\u001b[39m \u001b[38;5;28mself\u001b[39m\u001b[38;5;241m.\u001b[39mdialect\n\u001b[1;32m-> 1776\u001b[0m ret \u001b[38;5;241m=\u001b[39m \u001b[38;5;28mself\u001b[39m\u001b[38;5;241m.\u001b[39m_execute_context(\n\u001b[0;32m   1777\u001b[0m     dialect,\n\u001b[0;32m   1778\u001b[0m     dialect\u001b[38;5;241m.\u001b[39mexecution_ctx_cls\u001b[38;5;241m.\u001b[39m_init_statement,\n\u001b[0;32m   1779\u001b[0m     statement,\n\u001b[0;32m   1780\u001b[0m     \u001b[38;5;28;01mNone\u001b[39;00m,\n\u001b[0;32m   1781\u001b[0m     execution_options,\n\u001b[0;32m   1782\u001b[0m     statement,\n\u001b[0;32m   1783\u001b[0m     distilled_parameters,\n\u001b[0;32m   1784\u001b[0m )\n\u001b[0;32m   1786\u001b[0m \u001b[38;5;28;01mreturn\u001b[39;00m ret\n",
      "File \u001b[1;32mc:\\Users\\brdrv\\anaconda3\\Lib\\site-packages\\sqlalchemy\\engine\\base.py:1843\u001b[0m, in \u001b[0;36mConnection._execute_context\u001b[1;34m(self, dialect, constructor, statement, parameters, execution_options, *args, **kw)\u001b[0m\n\u001b[0;32m   1841\u001b[0m     \u001b[38;5;28;01mreturn\u001b[39;00m \u001b[38;5;28mself\u001b[39m\u001b[38;5;241m.\u001b[39m_exec_insertmany_context(dialect, context)\n\u001b[0;32m   1842\u001b[0m \u001b[38;5;28;01melse\u001b[39;00m:\n\u001b[1;32m-> 1843\u001b[0m     \u001b[38;5;28;01mreturn\u001b[39;00m \u001b[38;5;28mself\u001b[39m\u001b[38;5;241m.\u001b[39m_exec_single_context(\n\u001b[0;32m   1844\u001b[0m         dialect, context, statement, parameters\n\u001b[0;32m   1845\u001b[0m     )\n",
      "File \u001b[1;32mc:\\Users\\brdrv\\anaconda3\\Lib\\site-packages\\sqlalchemy\\engine\\base.py:1983\u001b[0m, in \u001b[0;36mConnection._exec_single_context\u001b[1;34m(self, dialect, context, statement, parameters)\u001b[0m\n\u001b[0;32m   1980\u001b[0m     result \u001b[38;5;241m=\u001b[39m context\u001b[38;5;241m.\u001b[39m_setup_result_proxy()\n\u001b[0;32m   1982\u001b[0m \u001b[38;5;28;01mexcept\u001b[39;00m \u001b[38;5;167;01mBaseException\u001b[39;00m \u001b[38;5;28;01mas\u001b[39;00m e:\n\u001b[1;32m-> 1983\u001b[0m     \u001b[38;5;28mself\u001b[39m\u001b[38;5;241m.\u001b[39m_handle_dbapi_exception(\n\u001b[0;32m   1984\u001b[0m         e, str_statement, effective_parameters, cursor, context\n\u001b[0;32m   1985\u001b[0m     )\n\u001b[0;32m   1987\u001b[0m \u001b[38;5;28;01mreturn\u001b[39;00m result\n",
      "File \u001b[1;32mc:\\Users\\brdrv\\anaconda3\\Lib\\site-packages\\sqlalchemy\\engine\\base.py:2352\u001b[0m, in \u001b[0;36mConnection._handle_dbapi_exception\u001b[1;34m(self, e, statement, parameters, cursor, context, is_sub_exec)\u001b[0m\n\u001b[0;32m   2350\u001b[0m \u001b[38;5;28;01melif\u001b[39;00m should_wrap:\n\u001b[0;32m   2351\u001b[0m     \u001b[38;5;28;01massert\u001b[39;00m sqlalchemy_exception \u001b[38;5;129;01mis\u001b[39;00m \u001b[38;5;129;01mnot\u001b[39;00m \u001b[38;5;28;01mNone\u001b[39;00m\n\u001b[1;32m-> 2352\u001b[0m     \u001b[38;5;28;01mraise\u001b[39;00m sqlalchemy_exception\u001b[38;5;241m.\u001b[39mwith_traceback(exc_info[\u001b[38;5;241m2\u001b[39m]) \u001b[38;5;28;01mfrom\u001b[39;00m\u001b[38;5;250m \u001b[39m\u001b[38;5;21;01me\u001b[39;00m\n\u001b[0;32m   2353\u001b[0m \u001b[38;5;28;01melse\u001b[39;00m:\n\u001b[0;32m   2354\u001b[0m     \u001b[38;5;28;01massert\u001b[39;00m exc_info[\u001b[38;5;241m1\u001b[39m] \u001b[38;5;129;01mis\u001b[39;00m \u001b[38;5;129;01mnot\u001b[39;00m \u001b[38;5;28;01mNone\u001b[39;00m\n",
      "File \u001b[1;32mc:\\Users\\brdrv\\anaconda3\\Lib\\site-packages\\sqlalchemy\\engine\\base.py:1964\u001b[0m, in \u001b[0;36mConnection._exec_single_context\u001b[1;34m(self, dialect, context, statement, parameters)\u001b[0m\n\u001b[0;32m   1962\u001b[0m                 \u001b[38;5;28;01mbreak\u001b[39;00m\n\u001b[0;32m   1963\u001b[0m     \u001b[38;5;28;01mif\u001b[39;00m \u001b[38;5;129;01mnot\u001b[39;00m evt_handled:\n\u001b[1;32m-> 1964\u001b[0m         \u001b[38;5;28mself\u001b[39m\u001b[38;5;241m.\u001b[39mdialect\u001b[38;5;241m.\u001b[39mdo_execute(\n\u001b[0;32m   1965\u001b[0m             cursor, str_statement, effective_parameters, context\n\u001b[0;32m   1966\u001b[0m         )\n\u001b[0;32m   1968\u001b[0m \u001b[38;5;28;01mif\u001b[39;00m \u001b[38;5;28mself\u001b[39m\u001b[38;5;241m.\u001b[39m_has_events \u001b[38;5;129;01mor\u001b[39;00m \u001b[38;5;28mself\u001b[39m\u001b[38;5;241m.\u001b[39mengine\u001b[38;5;241m.\u001b[39m_has_events:\n\u001b[0;32m   1969\u001b[0m     \u001b[38;5;28mself\u001b[39m\u001b[38;5;241m.\u001b[39mdispatch\u001b[38;5;241m.\u001b[39mafter_cursor_execute(\n\u001b[0;32m   1970\u001b[0m         \u001b[38;5;28mself\u001b[39m,\n\u001b[0;32m   1971\u001b[0m         cursor,\n\u001b[1;32m   (...)\u001b[0m\n\u001b[0;32m   1975\u001b[0m         context\u001b[38;5;241m.\u001b[39mexecutemany,\n\u001b[0;32m   1976\u001b[0m     )\n",
      "File \u001b[1;32mc:\\Users\\brdrv\\anaconda3\\Lib\\site-packages\\sqlalchemy\\engine\\default.py:942\u001b[0m, in \u001b[0;36mDefaultDialect.do_execute\u001b[1;34m(self, cursor, statement, parameters, context)\u001b[0m\n\u001b[0;32m    941\u001b[0m \u001b[38;5;28;01mdef\u001b[39;00m\u001b[38;5;250m \u001b[39m\u001b[38;5;21mdo_execute\u001b[39m(\u001b[38;5;28mself\u001b[39m, cursor, statement, parameters, context\u001b[38;5;241m=\u001b[39m\u001b[38;5;28;01mNone\u001b[39;00m):\n\u001b[1;32m--> 942\u001b[0m     cursor\u001b[38;5;241m.\u001b[39mexecute(statement, parameters)\n",
      "\u001b[1;31mProgrammingError\u001b[0m: (psycopg2.errors.UndefinedColumn) column f.city_id does not exist\nLINE 8:     JOIN dim_city c ON c.city_id = f.City_ID\n                                           ^\nHINT:  Perhaps you meant to reference the column \"c.city_id\".\n\n[SQL: \nWITH monthly_sales AS (\n    SELECT \n        c.city,\n        TO_CHAR(f.date, 'YYYY-MM') AS month,\n        SUM(f.net_circulation) AS net_circulation\n    FROM fact_print_sales f\n    JOIN dim_city c ON c.city_id = f.City_ID\n    WHERE f.year BETWEEN 2019 AND 2024\n    GROUP BY c.city, TO_CHAR(f.date, 'YYYY-MM')\n),\nwith_lag AS (\n    SELECT \n        city,\n        month,\n        net_circulation,\n        LAG(net_circulation) OVER (PARTITION BY city ORDER BY month) AS prev_circulation\n    FROM monthly_sales\n)\nSELECT \n    city,\n    month,\n    net_circulation,\n    (prev_circulation - net_circulation) AS decline\nFROM with_lag\nWHERE prev_circulation IS NOT NULL\nORDER BY decline DESC\nLIMIT 3;\n]\n(Background on this error at: https://sqlalche.me/e/20/f405)"
     ]
    }
   ],
   "source": [
    "import pandas as pd\n",
    "\n",
    "query = \"\"\"\n",
    "WITH monthly_sales AS (\n",
    "    SELECT \n",
    "        c.city,\n",
    "        TO_CHAR(f.date, 'YYYY-MM') AS month,\n",
    "        SUM(f.net_circulation) AS net_circulation\n",
    "    FROM fact_print_sales f\n",
    "    JOIN dim_city c ON c.city_id = f.City_ID\n",
    "    WHERE f.year BETWEEN 2019 AND 2024\n",
    "    GROUP BY c.city, TO_CHAR(f.date, 'YYYY-MM')\n",
    "),\n",
    "with_lag AS (\n",
    "    SELECT \n",
    "        city,\n",
    "        month,\n",
    "        net_circulation,\n",
    "        LAG(net_circulation) OVER (PARTITION BY city ORDER BY month) AS prev_circulation\n",
    "    FROM monthly_sales\n",
    ")\n",
    "SELECT \n",
    "    city,\n",
    "    month,\n",
    "    net_circulation,\n",
    "    (prev_circulation - net_circulation) AS decline\n",
    "FROM with_lag\n",
    "WHERE prev_circulation IS NOT NULL\n",
    "ORDER BY decline DESC\n",
    "LIMIT 3;\n",
    "\"\"\"\n",
    "\n",
    "df = pd.read_sql(query, engine)\n",
    "print(df)\n",
    "\n",
    "\n"
   ]
  },
  {
   "cell_type": "code",
   "execution_count": null,
   "id": "dd19b8c2",
   "metadata": {},
   "outputs": [],
   "source": []
  }
 ],
 "metadata": {
  "kernelspec": {
   "display_name": "base",
   "language": "python",
   "name": "python3"
  },
  "language_info": {
   "codemirror_mode": {
    "name": "ipython",
    "version": 3
   },
   "file_extension": ".py",
   "mimetype": "text/x-python",
   "name": "python",
   "nbconvert_exporter": "python",
   "pygments_lexer": "ipython3",
   "version": "3.13.5"
  }
 },
 "nbformat": 4,
 "nbformat_minor": 5
}
